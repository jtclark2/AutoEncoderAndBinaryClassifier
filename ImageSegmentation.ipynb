{
 "cells": [
  {
   "cell_type": "code",
   "execution_count": 4,
   "id": "0fa376dd",
   "metadata": {},
   "outputs": [],
   "source": [
    "import tensorflow as tf\n",
    "from tensorflow import keras\n",
    "from tensorflow.keras import layers\n",
    "from tensorflow.keras.models import Sequential\n",
    "from sklearn.model_selection import train_test_split # simpler to re-write and save a dependency\n",
    "\n",
    "import scipy\n",
    "import numpy as np\n",
    "import os\n",
    "import cv2\n",
    "import matplotlib.pyplot as plt\n",
    "\n",
    "import glob\n",
    "import time\n",
    "import random\n",
    "import xml.etree.ElementTree as ET\n"
   ]
  },
  {
   "cell_type": "code",
   "execution_count": 5,
   "id": "cb207cd2",
   "metadata": {},
   "outputs": [
    {
     "name": "stdout",
     "output_type": "stream",
     "text": [
      "['StarcraftTerranBuildOrder.JPG']\n"
     ]
    }
   ],
   "source": [
    "# Read XML annotations (mask perimeter)\n",
    "\n",
    "def extract_annotations(path):\n",
    "    tree = ET.parse(path)\n",
    "    root = tree.getroot()\n",
    "    image_nodes = root.findall(\"image\")\n",
    "\n",
    "    annotations = {}\n",
    "    for image_node in image_nodes:\n",
    "        name = image_node.attrib[\"name\"]\n",
    "        raw_str = image_node.find(\"polygon\").attrib[\"points\"]\n",
    "\n",
    "        pts_str = raw_str.split(\";\")\n",
    "        pts = []\n",
    "        for pt in pts_str:\n",
    "            x,y = pt.split(\",\")\n",
    "            x,y = int(float(x)), int(float(y))\n",
    "            pts.append([[x,y]])\n",
    "        \n",
    "    \n",
    "        annotations[name] = np.array(pts)\n",
    "        \n",
    "    return annotations\n",
    "    \n",
    "if __name__ == \"__main__\":\n",
    "    annotations = extract_annotations('Data/annotations.xml')\n",
    "    print(list(annotations))\n",
    "    name = list(annotations)[0]"
   ]
  },
  {
   "cell_type": "code",
   "execution_count": 7,
   "id": "9ed28e56",
   "metadata": {},
   "outputs": [
    {
     "name": "stdout",
     "output_type": "stream",
     "text": [
      "[[[129 174]]\n",
      "\n",
      " [[131  89]]\n",
      "\n",
      " [[159  48]]\n",
      "\n",
      " [[270  41]]\n",
      "\n",
      " [[356  61]]\n",
      "\n",
      " [[336 172]]\n",
      "\n",
      " [[349 211]]\n",
      "\n",
      " [[347 259]]\n",
      "\n",
      " [[347 290]]\n",
      "\n",
      " [[339 327]]\n",
      "\n",
      " [[334 357]]\n",
      "\n",
      " [[310 372]]\n",
      "\n",
      " [[256 381]]\n",
      "\n",
      " [[192 382]]\n",
      "\n",
      " [[152 357]]\n",
      "\n",
      " [[141 318]]\n",
      "\n",
      " [[129 264]]\n",
      "\n",
      " [[142 235]]\n",
      "\n",
      " [[146 209]]\n",
      "\n",
      " [[122 200]]\n",
      "\n",
      " [[137 189]]\n",
      "\n",
      " [[125 183]]\n",
      "\n",
      " [[129 175]]]\n"
     ]
    },
    {
     "data": {
      "text/plain": [
       "<matplotlib.image.AxesImage at 0x7fb6edd3b910>"
      ]
     },
     "execution_count": 7,
     "metadata": {},
     "output_type": "execute_result"
    },
    {
     "data": {
      "image/png": "[encoded data removed]",
      "text/plain": [
       "<Figure size 432x288 with 1 Axes>"
      ]
     },
     "metadata": {
      "needs_background": "light"
     },
     "output_type": "display_data"
    }
   ],
   "source": [
    "# Build Mask from points\n",
    "pts = annotations[name]\n",
    "print(pts)\n",
    "mask = np.zeros((677, 421))\n",
    "cv2.drawContours(mask, pts, contourIdx=-1, color = (1),thickness=10)\n",
    "cv2.drawContours(mask, [pts], contourIdx=-1, color = (1),thickness=1)\n",
    "cv2.fillPoly(mask, [pts], color = (1))\n",
    "plt.title(name)\n",
    "plt.imshow(mask)"
   ]
  },
  {
   "cell_type": "code",
   "execution_count": null,
   "id": "118763b0",
   "metadata": {},
   "outputs": [],
   "source": []
  }
 ],
 "metadata": {
  "kernelspec": {
   "display_name": "Python 3 (ipykernel)",
   "language": "python",
   "name": "python3"
  },
  "language_info": {
   "codemirror_mode": {
    "name": "ipython",
    "version": 3
   },
   "file_extension": ".py",
   "mimetype": "text/x-python",
   "name": "python",
   "nbconvert_exporter": "python",
   "pygments_lexer": "ipython3",
   "version": "3.8.13"
  }
 },
 "nbformat": 4,
 "nbformat_minor": 5
}
